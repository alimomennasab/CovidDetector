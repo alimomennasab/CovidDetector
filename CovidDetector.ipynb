{
  "nbformat": 4,
  "nbformat_minor": 0,
  "metadata": {
    "colab": {
      "name": "CovidDetector.ipynb",
      "provenance": [],
      "authorship_tag": "ABX9TyPGhCDnMtT9LVi8WGrIoE14",
      "include_colab_link": true
    },
    "kernelspec": {
      "name": "python3",
      "display_name": "Python 3"
    },
    "language_info": {
      "name": "python"
    }
  },
  "cells": [
    {
      "cell_type": "markdown",
      "metadata": {
        "id": "view-in-github",
        "colab_type": "text"
      },
      "source": [
        "<a href=\"https://colab.research.google.com/github/alimomennasab/CovidDetector/blob/main/CovidDetector.ipynb\" target=\"_parent\"><img src=\"https://colab.research.google.com/assets/colab-badge.svg\" alt=\"Open In Colab\"/></a>"
      ]
    },
    {
      "cell_type": "code",
      "execution_count": null,
      "metadata": {
        "id": "bQFUtEtbor1K"
      },
      "outputs": [],
      "source": [
        "!wget http://cb.lk/covid_19"
      ]
    },
    {
      "cell_type": "code",
      "source": [
        "!unzip covid_19"
      ],
      "metadata": {
        "id": "rF3ubFOfrMiw"
      },
      "execution_count": null,
      "outputs": []
    },
    {
      "cell_type": "code",
      "source": [
        "import numpy as np\n",
        "import matplotlib.pyplot as plt\n",
        "import keras\n",
        "\n",
        "from keras.layers import Dense, Conv2D, MaxPool2D, Dropout, Flatten\n",
        "from keras.models import Sequential\n",
        "from keras.preprocessing import image"
      ],
      "metadata": {
        "id": "yGfwv6k-rWDc"
      },
      "execution_count": null,
      "outputs": []
    },
    {
      "cell_type": "code",
      "source": [
        "#IMPORTING DATASET\n",
        "\n",
        "train_datagen = image.ImageDataGenerator(\n",
        "    rescale = 1/255,\n",
        "    horizontal_flip = True,\n",
        "    zoom_range = 0.2,\n",
        "    shear_range = 0.2\n",
        ")\n",
        "\n",
        "train_data = train_datagen.flow_from_directory(\n",
        "    directory=\"CovidDataset/Train\", \n",
        "    target_size = (256,256), \n",
        "    batch_size = 16, \n",
        "    class_mode = 'binary'\n",
        ")"
      ],
      "metadata": {
        "colab": {
          "base_uri": "https://localhost:8080/"
        },
        "id": "AsTB0HLLsKRb",
        "outputId": "e77a4a20-9953-42fc-8698-22b8c7753b18"
      },
      "execution_count": null,
      "outputs": [
        {
          "output_type": "stream",
          "name": "stdout",
          "text": [
            "Found 224 images belonging to 2 classes.\n"
          ]
        }
      ]
    },
    {
      "cell_type": "code",
      "source": [
        "train_data.class_indices #covid-positive = 0, covid-negative = 1"
      ],
      "metadata": {
        "colab": {
          "base_uri": "https://localhost:8080/"
        },
        "id": "5iG4x8sotwzT",
        "outputId": "fa226757-2c42-4628-fa25-ec7402a1cb1c"
      },
      "execution_count": null,
      "outputs": [
        {
          "output_type": "execute_result",
          "data": {
            "text/plain": [
              "{'Covid': 0, 'Normal': 1}"
            ]
          },
          "metadata": {},
          "execution_count": 10
        }
      ]
    },
    {
      "cell_type": "code",
      "source": [
        "test_datagen = image.ImageDataGenerator(\n",
        "    rescale = 1/255,\n",
        ")\n",
        "\n",
        "test_data = test_datagen.flow_from_directory(\n",
        "    directory=\"CovidDataset/Val\", \n",
        "    target_size = (256,256), \n",
        "    batch_size = 16, \n",
        "    class_mode = 'binary'\n",
        ")"
      ],
      "metadata": {
        "colab": {
          "base_uri": "https://localhost:8080/"
        },
        "id": "_VFjOluYyxyj",
        "outputId": "92cd8f87-9cd9-4ecc-b714-12283259f512"
      },
      "execution_count": null,
      "outputs": [
        {
          "output_type": "stream",
          "name": "stdout",
          "text": [
            "Found 60 images belonging to 2 classes.\n"
          ]
        }
      ]
    },
    {
      "cell_type": "markdown",
      "source": [
        "CNN MODEL"
      ],
      "metadata": {
        "id": "alAba9gi7VsO"
      }
    },
    {
      "cell_type": "code",
      "source": [
        "model = Sequential()\n",
        "\n",
        "model.add(Conv2D(filters= 32, kernel_size = (3,3), activation='relu', input_shape = (256,256,3)))\n",
        "\n",
        "model.add(Conv2D(filters= 64, kernel_size = (3,3), activation='relu'))\n",
        "model.add(MaxPool2D())\n",
        "model.add(Dropout(0.25))\n",
        "\n",
        "model.add(Conv2D(filters= 64, kernel_size = (3,3), activation='relu'))\n",
        "model.add(MaxPool2D())\n",
        "model.add(Dropout(0.25))\n",
        "\n",
        "model.add(Conv2D(filters= 128, kernel_size = (3,3), activation='relu'))\n",
        "model.add(MaxPool2D())\n",
        "model.add(Dropout(0.25))\n",
        "\n",
        "model.add(Flatten())\n",
        "model.add(Dense(units = 64, activation = 'relu'))\n",
        "model.add(Dropout(0.50))\n",
        "model.add(Dense(units = 1, activation = 'sigmoid'))\n",
        "\n",
        "model.compile(loss = keras.losses.binary_crossentropy, optimizer= \"adam\", metrics = ['accuracy'])"
      ],
      "metadata": {
        "id": "T5M_PvRY7dyH"
      },
      "execution_count": null,
      "outputs": []
    },
    {
      "cell_type": "code",
      "source": [
        "model.summary()"
      ],
      "metadata": {
        "colab": {
          "base_uri": "https://localhost:8080/"
        },
        "id": "DHR_qBkp9iZK",
        "outputId": "2db744c2-b9e7-4c59-bb8a-2a7540ef4955"
      },
      "execution_count": null,
      "outputs": [
        {
          "output_type": "stream",
          "name": "stdout",
          "text": [
            "Model: \"sequential_3\"\n",
            "_________________________________________________________________\n",
            " Layer (type)                Output Shape              Param #   \n",
            "=================================================================\n",
            " conv2d_12 (Conv2D)          (None, 254, 254, 32)      896       \n",
            "                                                                 \n",
            " conv2d_13 (Conv2D)          (None, 252, 252, 64)      18496     \n",
            "                                                                 \n",
            " max_pooling2d_9 (MaxPooling  (None, 126, 126, 64)     0         \n",
            " 2D)                                                             \n",
            "                                                                 \n",
            " dropout_12 (Dropout)        (None, 126, 126, 64)      0         \n",
            "                                                                 \n",
            " conv2d_14 (Conv2D)          (None, 124, 124, 64)      36928     \n",
            "                                                                 \n",
            " max_pooling2d_10 (MaxPoolin  (None, 62, 62, 64)       0         \n",
            " g2D)                                                            \n",
            "                                                                 \n",
            " dropout_13 (Dropout)        (None, 62, 62, 64)        0         \n",
            "                                                                 \n",
            " conv2d_15 (Conv2D)          (None, 60, 60, 128)       73856     \n",
            "                                                                 \n",
            " max_pooling2d_11 (MaxPoolin  (None, 30, 30, 128)      0         \n",
            " g2D)                                                            \n",
            "                                                                 \n",
            " dropout_14 (Dropout)        (None, 30, 30, 128)       0         \n",
            "                                                                 \n",
            " flatten_3 (Flatten)         (None, 115200)            0         \n",
            "                                                                 \n",
            " dense_6 (Dense)             (None, 64)                7372864   \n",
            "                                                                 \n",
            " dropout_15 (Dropout)        (None, 64)                0         \n",
            "                                                                 \n",
            " dense_7 (Dense)             (None, 1)                 65        \n",
            "                                                                 \n",
            "=================================================================\n",
            "Total params: 7,503,105\n",
            "Trainable params: 7,503,105\n",
            "Non-trainable params: 0\n",
            "_________________________________________________________________\n"
          ]
        }
      ]
    },
    {
      "cell_type": "code",
      "source": [
        "#TRAINING\n",
        "\n",
        "model.fit_generator(\n",
        "    train_data,\n",
        "    steps_per_epoch = 8,\n",
        "    epochs = 10,\n",
        "    validation_steps = 2,\n",
        "    validation_data = test_data\n",
        "  )"
      ],
      "metadata": {
        "colab": {
          "base_uri": "https://localhost:8080/"
        },
        "id": "O6SATb--9ujP",
        "outputId": "7e5398f3-5a9e-4c08-8c93-3e399a7e5bdb"
      },
      "execution_count": null,
      "outputs": [
        {
          "output_type": "stream",
          "name": "stderr",
          "text": [
            "/usr/local/lib/python3.7/dist-packages/ipykernel_launcher.py:8: UserWarning: `Model.fit_generator` is deprecated and will be removed in a future version. Please use `Model.fit`, which supports generators.\n",
            "  \n"
          ]
        },
        {
          "output_type": "stream",
          "name": "stdout",
          "text": [
            "Epoch 1/10\n",
            "8/8 [==============================] - 52s 6s/step - loss: 1.0195 - accuracy: 0.5078 - val_loss: 0.6842 - val_accuracy: 0.5000\n",
            "Epoch 2/10\n",
            "8/8 [==============================] - 51s 6s/step - loss: 0.6681 - accuracy: 0.6172 - val_loss: 0.6362 - val_accuracy: 0.8750\n",
            "Epoch 3/10\n",
            "8/8 [==============================] - 49s 6s/step - loss: 0.5579 - accuracy: 0.7734 - val_loss: 0.4904 - val_accuracy: 0.9062\n",
            "Epoch 4/10\n",
            "8/8 [==============================] - 51s 6s/step - loss: 0.3990 - accuracy: 0.8359 - val_loss: 0.3164 - val_accuracy: 0.9375\n",
            "Epoch 5/10\n",
            "8/8 [==============================] - 50s 6s/step - loss: 0.3267 - accuracy: 0.8750 - val_loss: 0.2047 - val_accuracy: 0.9688\n",
            "Epoch 6/10\n",
            "8/8 [==============================] - 49s 6s/step - loss: 0.2971 - accuracy: 0.8828 - val_loss: 0.1296 - val_accuracy: 0.9688\n",
            "Epoch 7/10\n",
            "8/8 [==============================] - 50s 6s/step - loss: 0.1806 - accuracy: 0.9297 - val_loss: 0.1325 - val_accuracy: 0.9688\n",
            "Epoch 8/10\n",
            "8/8 [==============================] - 50s 6s/step - loss: 0.2607 - accuracy: 0.9297 - val_loss: 0.1043 - val_accuracy: 1.0000\n",
            "Epoch 9/10\n",
            "8/8 [==============================] - 50s 6s/step - loss: 0.2173 - accuracy: 0.9062 - val_loss: 0.1700 - val_accuracy: 0.9688\n",
            "Epoch 10/10\n",
            "8/8 [==============================] - 51s 6s/step - loss: 0.1092 - accuracy: 0.9531 - val_loss: 0.0699 - val_accuracy: 1.0000\n"
          ]
        },
        {
          "output_type": "execute_result",
          "data": {
            "text/plain": [
              "<keras.callbacks.History at 0x7f38c842ce10>"
            ]
          },
          "metadata": {},
          "execution_count": 17
        }
      ]
    },
    {
      "cell_type": "code",
      "source": [
        "#PREDICTING AN IMAGE (add path to image in \"\")\n",
        "\n",
        " #path = \"\"\n",
        " #img = image.load_img(path, target_size=(256,256))\n",
        "\n",
        " #img = image.img_to_array(img)/255\n",
        " #img = np.array([img])\n",
        " #img.shape\n",
        "\n",
        " #.predict_classes(img)"
      ],
      "metadata": {
        "id": "BpZHmQYjB8nJ"
      },
      "execution_count": null,
      "outputs": []
    }
  ]
}